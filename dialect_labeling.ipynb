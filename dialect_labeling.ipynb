{
 "cells": [
  {
   "cell_type": "markdown",
   "metadata": {},
   "source": [
    "# Label Predicted Dialect for Tweet Dataset\n",
    "#### Using model from the paper \"Demographic Dialectal Variation in Social Media: A Case Study of African-American English\" by Su Lin Blodgett, Lisa Green, and Brendan O'Connor, EMNLP 2016.\n",
    "\n",
    "Note: Requires python 2.7"
   ]
  },
  {
   "cell_type": "code",
   "execution_count": 1,
   "metadata": {},
   "outputs": [],
   "source": [
    "import pandas as pd\n",
    "import csv\n",
    "\n",
    "import twitteraae.code.predict as predict"
   ]
  },
  {
   "cell_type": "code",
   "execution_count": 2,
   "metadata": {},
   "outputs": [],
   "source": [
    "DATA_FOLDER = \"compiled_data\"\n",
    "LABELED_DATASET_NAME = \"combined_labeled_data.csv\"\n",
    "OUTPUT_DATASET_NAME = \"dialect_metric_data.csv\""
   ]
  },
  {
   "cell_type": "code",
   "execution_count": 3,
   "metadata": {},
   "outputs": [],
   "source": [
    "# Initialize prediction model\n",
    "predict.load_model()"
   ]
  },
  {
   "cell_type": "code",
   "execution_count": 4,
   "metadata": {},
   "outputs": [],
   "source": [
    "dataset = pd.read_csv(\"{}/{}\".format(DATA_FOLDER, LABELED_DATASET_NAME))\n",
    "\n",
    "output_dataset_column_names = [\"tweet_text\", \"tweet_label\", \"african_american_dialect_proportion\", \"hispanic_dialect_proportion\", \"asian_dialect_proportion\", \"white_dialect_proportion\"]\n",
    "output_dataset_rows = []\n",
    "for row in dataset.itertuples():\n",
    "    dialect_prediction = predict.predict(row.tweet_text.decode().split())\n",
    "    \n",
    "    # If too few vocab words are recognized, predict may output None\n",
    "    if dialect_prediction is None:\n",
    "        continue\n",
    "    \n",
    "    aae, he, ae, we = dialect_prediction\n",
    "    output_dataset_rows.append(\n",
    "        [row.tweet_text, row.tweet_label, aae, he, ae, we]\n",
    "    )\n",
    "    \n",
    "output_dataset = pd.DataFrame(output_dataset_rows, columns=output_dataset_column_names)\n",
    "output_dataset.to_csv(\"{}/{}\".format(DATA_FOLDER, OUTPUT_DATASET_NAME), index=False)"
   ]
  },
  {
   "cell_type": "code",
   "execution_count": 5,
   "metadata": {},
   "outputs": [
    {
     "name": "stdout",
     "output_type": "stream",
     "text": [
      "21062\n",
      "21029\n"
     ]
    }
   ],
   "source": [
    "print(len(dataset))\n",
    "print(len(output_dataset))"
   ]
  }
 ],
 "metadata": {
  "interpreter": {
   "hash": "7ef4adf8a928ed80647824f9ff6989c0323b1d67dc54e4120b007f109e8415d3"
  },
  "kernelspec": {
   "display_name": "Python 2.7.18 ('cs329t_project_py2')",
   "language": "python",
   "name": "python3"
  },
  "language_info": {
   "codemirror_mode": {
    "name": "ipython",
    "version": 2
   },
   "file_extension": ".py",
   "mimetype": "text/x-python",
   "name": "python",
   "nbconvert_exporter": "python",
   "pygments_lexer": "ipython2",
   "version": "2.7.18"
  },
  "orig_nbformat": 4
 },
 "nbformat": 4,
 "nbformat_minor": 2
}
